{
 "cells": [
  {
   "cell_type": "code",
   "execution_count": null,
   "metadata": {
    "vscode": {
     "languageId": "plaintext"
    }
   },
   "outputs": [],
   "source": [
    "import numpy as np\n",
    "import matplotlib.pyplot as plt\n",
    "import seaborn as sns\n",
    "import pandas as pd\n",
    "from lib import load_curvecurator, plot_fit_type, plot_fit, fit, to_p_space, from_p_space\n",
    "\n",
    "# Increase plot resolution\n",
    "plt.rcParams['figure.dpi'] = 200"
   ]
  },
  {
   "cell_type": "code",
   "execution_count": null,
   "metadata": {
    "vscode": {
     "languageId": "plaintext"
    }
   },
   "outputs": [],
   "source": [
    "palette = sns.color_palette(\"tab10\")\n",
    "palette = {\n",
    "    \"Target\": palette[0],\n",
    "    \"Off-target\": palette[1],\n",
    "    \"Both\": palette[2],\n",
    "}\n",
    "\n",
    "RANGE_DELTA = 1"
   ]
  },
  {
   "cell_type": "code",
   "execution_count": null,
   "metadata": {
    "vscode": {
     "languageId": "plaintext"
    }
   },
   "outputs": [],
   "source": [
    "drugs = {\n",
    "    \"Afatinib\": {\n",
    "        'identifier': \"10184653/2reps_only\",\n",
    "        'target_ec50_nm': 3,\n",
    "        'target': \"EGFR\"\n",
    "    },\n",
    "    \"Lapatinib\": {\n",
    "        \"identifier\": \"208908\",\n",
    "        \"target_ec50_nm\": 65,\n",
    "    },\n",
    "    \"PF-3758309\": {\n",
    "        \"identifier\": \"25227462\",\n",
    "        'target_ec50_nm': 119,\n",
    "        'target': 'PAK4'\n",
    "    },\n",
    "    \"Dasatinib\": {\n",
    "        \"identifier\": \"3062316\",\n",
    "        'target_ec50_nm': 5,\n",
    "    },\n",
    "    \"92131101\": {\n",
    "        \"identifier\": \"92131101\",\n",
    "        'target_ec50_nm': 10,\n",
    "    },\n",
    "    \"Tipifarnib\": {\n",
    "        \"identifier\": \"159324\",\n",
    "        'target_ec50_nm': 40,\n",
    "    },\n",
    "    \"Docetaxel\": {\n",
    "        \"identifier\": \"9877265\",\n",
    "        'target_ec50_nm': 50,\n",
    "    },\n",
    "    \"168312962\": {\n",
    "        \"identifier\": \"168312962\",\n",
    "        'target_ec50_nm': 40,\n",
    "    },\n",
    "    \"Selumetinib\": {\n",
    "        \"identifier\": \"10127622\",\n",
    "        'target_ec50_nm': 200,\n",
    "    },\n",
    "    \"11364421\": {\n",
    "        \"identifier\": \"11364421\",\n",
    "        'target_ec50_nm': 8,\n",
    "    },\n",
    "    \"Bleomycin\": {\n",
    "        \"identifier\": \"46930982\",\n",
    "        'target_ec50_nm': 50,\n",
    "    },\n",
    "    \"Alisertib\": {\n",
    "        \"identifier\": \"24771867\",\n",
    "        'target_ec50_nm': 30,\n",
    "    },\n",
    "    \"Oligomycin A\": {\n",
    "        \"identifier\": \"6364620\",\n",
    "        'target_ec50_nm': 30,\n",
    "    },\n",
    "    \"Trametinib\": {\n",
    "        \"identifier\": \"11707110\",\n",
    "        'target_ec50_nm': 20,\n",
    "    },\n",
    "    \"Leptomycin B\": {\n",
    "        \"identifier\": \"6917907\",\n",
    "        'target_ec50_nm': 30,\n",
    "    },\n",
    "    \"Vincristine\": {\n",
    "        \"identifier\": \"5388993\",\n",
    "        'target_ec50_nm': 100,\n",
    "    },\n",
    "    \"Idelalisib\": {\n",
    "        \"identifier\": \"11625818\",\n",
    "        'target_ec50_nm': 80,\n",
    "    },\n",
    "    \"Rapamycin\": {\n",
    "        \"identifier\": \"5284616\",\n",
    "        'target_ec50_nm': 30,\n",
    "    },\n",
    "}\n",
    "\n",
    "drug = \"Afatinib\"\n",
    "\n",
    "df_curvecurator, df_doses = load_curvecurator(drugs[drug]['identifier'])\n",
    "target = drugs[drug].get('target', None)\n",
    "target_pec50 = to_p_space(drugs[drug]['target_ec50_nm'] / 1e9)\n",
    "target_pec50_range = np.array([target_pec50 - RANGE_DELTA, target_pec50 + RANGE_DELTA])\n",
    "target_ec50_range = from_p_space(target_pec50_range)\n",
    "\n",
    "df_curvecurator = fit(df_curvecurator, df_doses, target_pec50_range)"
   ]
  },
  {
   "cell_type": "code",
   "execution_count": null,
   "metadata": {
    "vscode": {
     "languageId": "plaintext"
    }
   },
   "outputs": [],
   "source": [
    "other_drug = \"Lapatinib\"\n",
    "df_curvecurator_other, df_doses_other = load_curvecurator(drugs[other_drug]['identifier'])\n",
    "target_pec50_other = to_p_space(drugs[other_drug]['target_ec50_nm'] / 1e9)\n",
    "target_pec50_range_other = np.array([target_pec50_other - RANGE_DELTA, target_pec50_other + RANGE_DELTA])\n",
    "target_ec50_range_other = from_p_space(target_pec50_range_other)\n",
    "\n",
    "df_curvecurator_other = fit(df_curvecurator_other, df_doses_other, target_pec50_range_other)"
   ]
  },
  {
   "cell_type": "code",
   "execution_count": null,
   "metadata": {
    "vscode": {
     "languageId": "plaintext"
    }
   },
   "outputs": [],
   "source": [
    "cl_intersection = list(set(df_curvecurator.index).intersection(set(df_curvecurator_other.index)))\n",
    "column = \"double_target_effect_size\"\n",
    "\n",
    "df_intersection = pd.DataFrame({\n",
    "    drug: df_curvecurator.loc[cl_intersection, column],\n",
    "    f\"{drug}_fit_type\": df_curvecurator.loc[cl_intersection, \"Double fit type\"],\n",
    "    other_drug: df_curvecurator_other.loc[cl_intersection, column],\n",
    "    f\"{other_drug}_fit_type\": df_curvecurator_other.loc[cl_intersection, \"Double fit type\"],\n",
    "})\n",
    "\n",
    "sns.jointplot(data=df_intersection, x=drug, y=other_drug, hue=f\"{other_drug}_fit_type\", palette=palette)"
   ]
  }
 ],
 "metadata": {
  "language_info": {
   "name": "python"
  }
 },
 "nbformat": 4,
 "nbformat_minor": 2
}
